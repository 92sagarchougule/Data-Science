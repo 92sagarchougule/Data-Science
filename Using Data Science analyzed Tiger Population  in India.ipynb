{
 "cells": [
  {
   "cell_type": "code",
   "execution_count": 266,
   "metadata": {},
   "outputs": [],
   "source": [
    "import pandas as pd\n",
    "import matplotlib.pyplot as plt\n",
    "import numpy as np\n",
    "import seaborn as sns\n",
    "%matplotlib inline"
   ]
  },
  {
   "cell_type": "code",
   "execution_count": 267,
   "metadata": {},
   "outputs": [
    {
     "data": {
      "text/html": [
       "<div>\n",
       "<style scoped>\n",
       "    .dataframe tbody tr th:only-of-type {\n",
       "        vertical-align: middle;\n",
       "    }\n",
       "\n",
       "    .dataframe tbody tr th {\n",
       "        vertical-align: top;\n",
       "    }\n",
       "\n",
       "    .dataframe thead th {\n",
       "        text-align: right;\n",
       "    }\n",
       "</style>\n",
       "<table border=\"1\" class=\"dataframe\">\n",
       "  <thead>\n",
       "    <tr style=\"text-align: right;\">\n",
       "      <th></th>\n",
       "      <th>Year</th>\n",
       "      <th>Region</th>\n",
       "      <th>Tigers</th>\n",
       "    </tr>\n",
       "  </thead>\n",
       "  <tbody>\n",
       "    <tr>\n",
       "      <th>0</th>\n",
       "      <td>2006</td>\n",
       "      <td>Central India and Eastern Ghats</td>\n",
       "      <td>601</td>\n",
       "    </tr>\n",
       "    <tr>\n",
       "      <th>1</th>\n",
       "      <td>2010</td>\n",
       "      <td>Central India and Eastern Ghats</td>\n",
       "      <td>601</td>\n",
       "    </tr>\n",
       "    <tr>\n",
       "      <th>2</th>\n",
       "      <td>2014</td>\n",
       "      <td>Central India and Eastern Ghats</td>\n",
       "      <td>688</td>\n",
       "    </tr>\n",
       "    <tr>\n",
       "      <th>3</th>\n",
       "      <td>2018</td>\n",
       "      <td>Central India and Eastern Ghats</td>\n",
       "      <td>1033</td>\n",
       "    </tr>\n",
       "    <tr>\n",
       "      <th>4</th>\n",
       "      <td>2006</td>\n",
       "      <td>Shivalik Hills and Gangetic Plains</td>\n",
       "      <td>297</td>\n",
       "    </tr>\n",
       "  </tbody>\n",
       "</table>\n",
       "</div>"
      ],
      "text/plain": [
       "   Year                               Region  Tigers\n",
       "0  2006      Central India and Eastern Ghats     601\n",
       "1  2010      Central India and Eastern Ghats     601\n",
       "2  2014      Central India and Eastern Ghats     688\n",
       "3  2018      Central India and Eastern Ghats    1033\n",
       "4  2006  Shivalik Hills and Gangetic Plains      297"
      ]
     },
     "execution_count": 267,
     "metadata": {},
     "output_type": "execute_result"
    }
   ],
   "source": [
    "df = pd.read_csv('Tiger_Population_India.csv')\n",
    "df.head()"
   ]
  },
  {
   "cell_type": "code",
   "execution_count": 268,
   "metadata": {},
   "outputs": [],
   "source": [
    "group = df.groupby('Region')"
   ]
  },
  {
   "cell_type": "code",
   "execution_count": 269,
   "metadata": {},
   "outputs": [
    {
     "data": {
      "text/plain": [
       "<pandas.core.groupby.generic.DataFrameGroupBy object at 0x0000020617206C48>"
      ]
     },
     "execution_count": 269,
     "metadata": {},
     "output_type": "execute_result"
    }
   ],
   "source": [
    "group"
   ]
  },
  {
   "cell_type": "code",
   "execution_count": 312,
   "metadata": {},
   "outputs": [
    {
     "name": "stdout",
     "output_type": "stream",
     "text": [
      "[ Central India and Eastern Ghats ]\n",
      "\n",
      "\n",
      "   Year                           Region  Tigers\n",
      "0  2006  Central India and Eastern Ghats     601\n",
      "1  2010  Central India and Eastern Ghats     601\n",
      "2  2014  Central India and Eastern Ghats     688\n",
      "3  2018  Central India and Eastern Ghats    1033\n",
      "\n",
      "\n",
      "\n",
      "[ India ]\n",
      "\n",
      "\n",
      "    Year Region  Tigers\n",
      "20  2006  India    1400\n",
      "21  2010  India    1706\n",
      "22  2014  India    2226\n",
      "23  2018  India    2967\n",
      "\n",
      "\n",
      "\n",
      "[ North East Hills and Brahmaputra Plains ]\n",
      "\n",
      "\n",
      "    Year                                   Region  Tigers\n",
      "8   2006  North East Hills and Brahmaputra Plains     100\n",
      "9   2010  North East Hills and Brahmaputra Plains     148\n",
      "10  2014  North East Hills and Brahmaputra Plains     201\n",
      "11  2018  North East Hills and Brahmaputra Plains     219\n",
      "\n",
      "\n",
      "\n",
      "[ Shivalik Hills and Gangetic Plains  ]\n",
      "\n",
      "\n",
      "   Year                               Region  Tigers\n",
      "4  2006  Shivalik Hills and Gangetic Plains      297\n",
      "5  2010  Shivalik Hills and Gangetic Plains      353\n",
      "6  2014  Shivalik Hills and Gangetic Plains      485\n",
      "7  2018  Shivalik Hills and Gangetic Plains      646\n",
      "\n",
      "\n",
      "\n",
      "[ Sundarbans ]\n",
      "\n",
      "\n",
      "    Year      Region  Tigers\n",
      "16  2006  Sundarbans      60\n",
      "17  2010  Sundarbans      70\n",
      "18  2014  Sundarbans      76\n",
      "19  2018  Sundarbans      88\n",
      "\n",
      "\n",
      "\n",
      "[ Western Ghats  ]\n",
      "\n",
      "\n",
      "    Year          Region  Tigers\n",
      "12  2006  Western Ghats      402\n",
      "13  2010  Western Ghats      534\n",
      "14  2014  Western Ghats      776\n",
      "15  2018  Western Ghats      981\n",
      "\n",
      "\n",
      "\n"
     ]
    }
   ],
   "source": [
    "for Region, Reg in group:\n",
    "    print('[',Region,']')\n",
    "    print('\\n')\n",
    "    print(Reg)\n",
    "    print('\\n\\n')"
   ]
  },
  {
   "cell_type": "code",
   "execution_count": 313,
   "metadata": {},
   "outputs": [],
   "source": [
    "df1 = df[df['Region']=='Central India and Eastern Ghats']"
   ]
  },
  {
   "cell_type": "code",
   "execution_count": 314,
   "metadata": {},
   "outputs": [],
   "source": [
    "df2 = df[df['Region']=='North East Hills and Brahmaputra Plains']"
   ]
  },
  {
   "cell_type": "code",
   "execution_count": 315,
   "metadata": {},
   "outputs": [],
   "source": [
    "df3 = df[df['Region']=='Shivalik Hills and Gangetic Plains ']"
   ]
  },
  {
   "cell_type": "code",
   "execution_count": 316,
   "metadata": {},
   "outputs": [],
   "source": [
    "df4= df[df['Region']=='Sundarbans']"
   ]
  },
  {
   "cell_type": "code",
   "execution_count": 317,
   "metadata": {},
   "outputs": [],
   "source": [
    "df5= df[df['Region']=='Western Ghats ']"
   ]
  },
  {
   "cell_type": "code",
   "execution_count": 318,
   "metadata": {},
   "outputs": [],
   "source": [
    "df6= df[df['Region']=='India']"
   ]
  },
  {
   "cell_type": "code",
   "execution_count": 349,
   "metadata": {},
   "outputs": [
    {
     "data": {
      "image/png": "[encoded data removed]",
      "text/plain": [
       "<Figure size 1296x1296 with 6 Axes>"
      ]
     },
     "metadata": {
      "needs_background": "light"
     },
     "output_type": "display_data"
    }
   ],
   "source": [
    "x = np.linspace(10,20,20)\n",
    "\n",
    "plt.figure(figsize=(18,18))\n",
    "plt.subplot(3,3,1)\n",
    "plt.xticks(ypos,df1['Year'])\n",
    "plt.title('[ Central India and Eastern Ghats ]',color='blue')\n",
    "plt.ylabel('[ Total Population ]',color='g')\n",
    "plt.bar(ypos,df1.Tigers,width=0.8,color='yellowgreen',  edgecolor='g')\n",
    "plt.grid()\n",
    "\n",
    "\n",
    "\n",
    "plt.subplot(3,3,2)\n",
    "ypos = np.arange(len(df2.Year))\n",
    "plt.title('[ North East Hills and Brahmaputra Plains ]',color='blue')\n",
    "plt.xticks(ypos,df2['Year'])\n",
    "plt.bar(ypos,df2.Tigers,width=0.8,color='yellowgreen',  edgecolor='g')\n",
    "plt.grid()\n",
    "\n",
    "\n",
    "plt.subplot(3,3,3)\n",
    "ypos = np.arange(len(df3.Year))\n",
    "plt.title('[ Shivalik Hills and Gangetic Plains ]',color='blue')\n",
    "plt.xticks(ypos,df3['Year'])\n",
    "plt.bar(ypos,df3.Tigers,width=0.8,color='yellowgreen',  edgecolor='g')\n",
    "plt.grid()\n",
    "\n",
    "\n",
    "plt.subplot(3,3,4)\n",
    "ypos = np.arange(len(df4.Year))\n",
    "plt.title('[ Sundarbans ]',color='blue')\n",
    "plt.xlabel('[ Year ]',color='g')\n",
    "plt.ylabel('[ Total Population ]',color='g')\n",
    "plt.xticks(ypos,df4['Year'])\n",
    "plt.bar(ypos,df4.Tigers,width=0.8,color='yellowgreen',  edgecolor='g')\n",
    "plt.grid()\n",
    "\n",
    "\n",
    "\n",
    "plt.subplot(3,3,5)\n",
    "ypos = np.arange(len(df5.Year))\n",
    "plt.title('[ Western Ghats ]',color='blue')\n",
    "plt.xlabel('[ Year ]',color='g')\n",
    "plt.xticks(ypos,df5['Year'])\n",
    "plt.bar(ypos,df5.Tigers,width=0.8,color='yellowgreen',  edgecolor='g')\n",
    "plt.grid()\n",
    "\n",
    "\n",
    "plt.subplot(3,3,6)\n",
    "ypos = np.arange(len(df6.Year))\n",
    "plt.title('[ Indian ]',color='blue')\n",
    "plt.xlabel('[ Year ]',color='g')\n",
    "plt.xticks(ypos,df['Year'])\n",
    "plt.bar(ypos,df6.Tigers,width=0.8,color='yellowgreen',  edgecolor='g')\n",
    "plt.grid()\n"
   ]
  }
 ],
 "metadata": {
  "kernelspec": {
   "display_name": "Python 3",
   "language": "python",
   "name": "python3"
  },
  "language_info": {
   "codemirror_mode": {
    "name": "ipython",
    "version": 3
   },
   "file_extension": ".py",
   "mimetype": "text/x-python",
   "name": "python",
   "nbconvert_exporter": "python",
   "pygments_lexer": "ipython3",
   "version": "3.7.6"
  }
 },
 "nbformat": 4,
 "nbformat_minor": 4
}
